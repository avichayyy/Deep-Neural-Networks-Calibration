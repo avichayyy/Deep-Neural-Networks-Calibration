{
 "cells": [
  {
   "cell_type": "code",
   "execution_count": null,
   "metadata": {},
   "outputs": [],
   "source": [
    "import os\n",
    "import numpy as np\n",
    "import pandas as pd\n",
    "import matplotlib.pyplot as plt\n",
    "from PIL import Image\n",
    "from netcal.scaling import TemperatureScaling\n",
    "from netcal.metrics import ECE\n",
    "from netcal.binning import IsotonicRegression\n",
    "from netcal.binning import HistogramBinning\n",
    "import re"
   ]
  },
  {
   "cell_type": "code",
   "execution_count": null,
   "metadata": {},
   "outputs": [],
   "source": [
    "def get_results(results_dir):\n",
    "    result = []\n",
    "    for root, _, files in os.walk(results_dir):\n",
    "        for file_name in files:\n",
    "            matches = re.findall(r'([0-9]+)', file_name)\n",
    "            full_path = f\"{root}/{file_name}\"\n",
    "            with open(full_path) as f:\n",
    "                ece = f.read()\n",
    "                matches.append(ece)\n",
    "            matches = [float(x) for x in matches]\n",
    "            result.append({\n",
    "                \"classes\": matches[0],\n",
    "                \"batches\": matches[1],\n",
    "                \"epochs\": matches[2], \n",
    "                \"ece\": matches[3]\n",
    "            })\n",
    "    return result\n",
    "result_dict = get_results(\"/home/user_7428/yonatan/audioset_tagging_cnn/results\")\n",
    "df = pd.DataFrame(result_dict)\n",
    "print(len(df))\n",
    "df.head()"
   ]
  },
  {
   "cell_type": "code",
   "execution_count": null,
   "metadata": {},
   "outputs": [],
   "source": [
    "classes = 8\n",
    "current_function = 'epochs'\n",
    "current_df = df[(df['classes'] == classes) & (df['batches'] == 1)][[current_function, 'ece']].sort_values('epochs')\n",
    "x = []\n",
    "y = []\n",
    "for _, row in current_df.iterrows():\n",
    "    x.append(row[current_function])\n",
    "    y.append(row['ece'])\n",
    "plt.plot(x, y, color='red')\n",
    "current_df = df[(df['classes'] == classes) & (df['batches'] == 16)][[current_function, 'ece']].sort_values('epochs')\n",
    "x = []\n",
    "y = []\n",
    "for _, row in current_df.iterrows():\n",
    "    x.append(row[current_function])\n",
    "    y.append(row['ece'])\n",
    "plt.plot(x, y, color='blue')\n",
    "current_df = df[(df['classes'] == classes) & (df['batches'] == 32)][[current_function, 'ece']].sort_values('epochs')\n",
    "x = []\n",
    "y = []\n",
    "for _, row in current_df.iterrows():\n",
    "    x.append(row[current_function])\n",
    "    y.append(row['ece'])\n",
    "y_avg = [y[0]] + [(y[i - 1] + y[i] + y[i+1]) / 3 for i in range(1, len(y)-1)] + [y[-1]]\n",
    "plt.plot(x, y_avg, color='green')\n",
    "plt.title(f\"ECE as a function of {current_function} | num_classes: {classes}\")\n",
    "plt.show()"
   ]
  }
 ],
 "metadata": {
  "kernelspec": {
   "display_name": "Python 3",
   "language": "python",
   "name": "python3"
  },
  "language_info": {
   "codemirror_mode": {
    "name": "ipython",
    "version": 3
   },
   "file_extension": ".py",
   "mimetype": "text/x-python",
   "name": "python",
   "nbconvert_exporter": "python",
   "pygments_lexer": "ipython3",
   "version": "3.10.12"
  }
 },
 "nbformat": 4,
 "nbformat_minor": 2
}
